{
 "cells": [
  {
   "cell_type": "raw",
   "metadata": {},
   "source": [
    "x1         h1\n",
    "\n",
    "           h2            o1\n",
    "\n",
    "x2         h3 "
   ]
  },
  {
   "cell_type": "code",
   "execution_count": null,
   "metadata": {},
   "outputs": [],
   "source": [
    "x1 = 1\n",
    "x2 = 1\n",
    "\n",
    "w1 = x1->h1 = 0.8\n",
    "w2 = x2->h1 = 0.2\n",
    "\n",
    "w3 = x1->h2 = 0.4\n",
    "w4 = x2->h2 = 0.9\n",
    "\n",
    "w5= x2->h3 = 0.5\n",
    "w6= x1->h3 = 0.3\n",
    "\n",
    "\n",
    "u1 = h1->o1 = 0.3\n",
    "u2 = h2->o1 = 0.5\n",
    "u3 = h3->o1 = 0.9\n"
   ]
  },
  {
   "cell_type": "raw",
   "metadata": {},
   "source": [
    "Forward Propagation\n",
    "\n",
    "hNet1 = x1w1 + x2w2 + bH1\n",
    "hOut1 = sig(hNet1)\n",
    "hNet2 = x1w3 + x2w4 + bH2\n",
    "hOut2 = sig(hNet2)\n",
    "hNet3 = x1w5 + x2w6 + bH3\n",
    "hOut3 = sig(hNet3)\n",
    "yNet1 = hOut1u1 + hOut2u3 + hOut3u5 + bOut1\n",
    "yOut1 = sig(yNet1)   \n",
    "\n",
    "//if you have more than one output\n",
    "yNet2 = hOut1u2 + hOut2u4 + hOut3u6 + bOut2\n",
    "yOut2 = sig(yNet2) \n"
   ]
  },
  {
   "cell_type": "raw",
   "metadata": {},
   "source": [
    "hNet1 = x1w1 + x2w2 + bH1\n",
    "1 * 0.8 + 1 * 0.2 = 1\n",
    "hOut1 = sig(hNet1)\n",
    "S(1.0) = 0.73105857863\n",
    "\n",
    "hNet2 = x1w3 + x2w4 + bH2\n",
    "1 * 0.4 + 1 * 0.9 = 1.3\n",
    "hOut2 = sig(hNet2)\n",
    "S(1.3) = 0.78583498304\n",
    "\n",
    "hNet3 = x1w5 + x2w6 + bH3\n",
    "1 * 0.3 + 1 * 0.5 = 0.8\n",
    "hOut3 = sig(hNet3)\n",
    "S(0.8) = 0.68997448112\n",
    "\n",
    "yNet1 = hOut1u1 + hOut2u3 + hOut3u5 + bOut1\n",
    "0.73 * 0.3 + 0.79 * 0.5 + 0.69 * 0.9 = 1.235\n",
    "yOut1 = sig(yNet1)   \n",
    "S(1.235) = 0.7746924929149283\n",
    "\n",
    "Because we used a random set of initial weights, the value of the output neuron is off the mark; in this case by +0.77 (since the target is 0)\n",
    " "
   ]
  },
  {
   "cell_type": "raw",
   "metadata": {},
   "source": [
    "forward propagation  using matrix\n",
    "----------------------------------\n",
    "\n",
    "(1 ,1) x 0.8,0.4,0.3 x 0.3\n",
    "         0.2,0.9,0.5   0.5\n",
    "                       0.9\n",
    "\n",
    "z= 1 x 0.8 + 1 x 0.2, 1x 0.4  + 1 x 0.9, 1 x 0.3 + 1 x 0.5 \n",
    "z = 1, 1.3, 0.8 \n",
    "\n",
    "s(Z)= 1 / (1 + e^-z)\n",
    "  = 1 / (1 + 2.71828^(-z))\n",
    "\n",
    "S(1.0) = 0.73105857863\n",
    "S(1.3) = 0.78583498304\n",
    "S(0.8) = 0.68997448112\n",
    "\n",
    "0.73, 0.79, 0.69 x 0.3\n",
    "                   0.5\n",
    "                   0.9\n",
    "        \n",
    "0.73 x 0.3 + 0.79 x 0.5 + 0.69 x 0.9\n",
    "0.219 + 0.395 + 0.621\n",
    "1.235\n",
    "1 / (1 + 2.71828^(-1.235))\n",
    "0.77"
   ]
  },
  {
   "cell_type": "raw",
   "metadata": {},
   "source": [
    "Calculate gradient of Error(E) at output layer \n",
    " \n",
    "E1 =(y1- yOut1)^2 / 2\n",
    "E2 =(y2- yOut2)^2 / 2\n",
    "E = E1 + E2\n"
   ]
  },
  {
   "cell_type": "raw",
   "metadata": {},
   "source": [
    "Backward Propagation \n",
    "-----------------------\n",
    "\n",
    "Given a forward propagation function\n",
    "\n",
    "f(x) = A(B(C(X)))\n",
    "\n",
    "A, B, and C are activation functions at different layers. Using the chain rule we easily calculate the derivative of f with respect to x\n",
    "\n",
    "chain rule  dy/dx= dy/du * du/dx\n"
   ]
  },
  {
   "cell_type": "raw",
   "metadata": {},
   "source": [
    "https://www.derivative-calculator.net/\n",
    "\n",
    "Function        derivative\n",
    "x^2\t            2x\n",
    "x^3             3x^(3-1) = 3x^2 \n",
    "sig             sig * (1 - sig)\n",
    "ax               a\n",
    "x                1\n",
    "a (const)        0\n",
    "f(g(x))          f’(g(x))g’(x)\n"
   ]
  },
  {
   "cell_type": "raw",
   "metadata": {},
   "source": [
    "\n",
    "sig_d(yNet1) = sig(yNet1)( 1 - sig(yNet1)) \n",
    "\n",
    "Since, yOut1 = sig(yNet1)\n",
    "\n",
    "sig_d(yNet1) = yOut1( 1 - yOut1)    "
   ]
  },
  {
   "cell_type": "raw",
   "metadata": {},
   "source": [
    "sig_d(yNet1) = yOut1( 1 - yOut1)    \n",
    "sig_d(yNet2) = yOut2( 1 - yOut2)    \n",
    "sig_d(hNet1) = hOut1( 1 - hOut1)    \n",
    "sig_d(hNet2) = hOut2( 1 - hOut2) \n",
    "sig_d(hNet3) = hOut3( 1 - hOut3)   "
   ]
  },
  {
   "cell_type": "raw",
   "metadata": {},
   "source": [
    "1. Compute slope at output and hidden layer\n",
    "-------------------------------------------\n",
    "\n",
    "We want to know how much a change in u1 affects the total error\n",
    "\n",
    "E1 =(y1- yOut1)^2 / 2\n",
    "\n",
    "Since E1 as no u1, we will have expand yOut1\n",
    "yOut1 = sig(yNet1)\n",
    "\n",
    "Since yNet1 as no u1, we will have expand yNet1\n",
    "yNet1 = hOut1u1 + hOut2u3 + hOut3u5 + bOut1\n",
    "\n",
    "By Applying chain Rule,\n",
    "dE1/du1 = dE1 / dyOut1 * dyOut1 / dyNet1 * dyNet1 / du1\n"
   ]
  },
  {
   "cell_type": "raw",
   "metadata": {},
   "source": [
    "dE1/dyOut1\n",
    "----------\n",
    "how much does the error1 change with respect to the output1\n",
    "\n",
    "E1 =(y1- yOut1)^2 / 2\n",
    "Using chain rule, derivative of f(g(x)) = f’(g(x))g’(x)\n",
    "\n",
    "function             derivative\n",
    "------------------  -------------------------\n",
    "f(g)^2               f’(g)^2 * g = 2 * g * g’\n",
    "f((y1- yOut1))^2     (2 * (y1- yOut1)^(2-1) * (0 -1) )\n",
    "\n",
    "\n",
    "dE1/dyOut1 = (2 * (y1- yOut1)^(2-1) * (0 -1) ) / 2\n",
    "\n",
    "dE1/dyOut1 = (y1- yOut1) *  -1  \n",
    "dE1/dyOut1 = yOut1 - y1\n"
   ]
  },
  {
   "cell_type": "raw",
   "metadata": {},
   "source": [
    "dyOut1 / dyNet1\n",
    "-----------------\n",
    "how much does the yNet1 change with respect to the yOut1\n",
    "\n",
    "yOut1 = sig(yNet1)\n",
    "dyOut1/dyNet1 = sig(yNet1)( 1- sig(yNet1))  \n",
    "Since, yOut1 = sig(yNet1)\n",
    "dyOut1/dyNet1 = yOut1( 1- yOut1)  \n"
   ]
  },
  {
   "cell_type": "raw",
   "metadata": {},
   "source": [
    "dyNet1 / du1\n",
    "-------------\n",
    "how much does the yNet1 change with respect to u1\n",
    "\n",
    "yNet1 = hOut1u1 + hOut2u3 + hOut3u5 + bOut1\n",
    "dyNet1/du1 = hOut1 * 1 + 0 + 0 + 0  \n",
    "dyNet1/du1 = hOut1 \n"
   ]
  },
  {
   "cell_type": "raw",
   "metadata": {},
   "source": [
    "how much does the error1 change with respect to the output1\n",
    "\n",
    "dE1/du1 = dE1 / dyOut1 * dyOut1 / dyNet1 * dyNet1 / du1\n",
    "\n",
    "dE1/dyOut1 = yOut1 - y1\n",
    "dyOut1/dyNet1 = yOut1( 1- yOut1)  \n",
    "dyNet1/du1 = hOut1 \n",
    "\n",
    "dE1/du1 = (yOut1 - y1) * (yOut1( 1- yOut1)) * hOut1\n",
    "\n"
   ]
  },
  {
   "cell_type": "code",
   "execution_count": null,
   "metadata": {},
   "outputs": [],
   "source": [
    "We want to know how much a change in u1,u2,u3,u4,u5,u6 affects the total error\n",
    "\n",
    "dE1/du1 = (yOut1 - y1) * (yOut1( 1- yOut1)) * hOut1\n",
    "dE1/du2 = (yOut1 - y1) * (yOut1( 1- yOut1)) * hOut2\n",
    "dE1/du3 = (yOut1 - y1) * (yOut1( 1- yOut1)) * hOut3\n",
    "\n",
    "dE2/du4 = (yOut2 - y2) * (yOut2( 1- yOut2)) * hOut1\n",
    "dE2/du5 =  (yOut2 - y2) * (yOut2( 1- yOut2)) * hOut2\n",
    "dE2/du6 =  (yOut2 - y2) * (yOut2( 1- yOut2)) * hOut3"
   ]
  },
  {
   "cell_type": "code",
   "execution_count": null,
   "metadata": {},
   "outputs": [],
   "source": [
    "\n",
    "y = 0\n",
    "\n",
    "hNet1 = 1\n",
    "hOut1 = 0.73105857863\n",
    "\n",
    "hNet2 = 1.3\n",
    "hOut2 =  0.78583498304\n",
    "\n",
    "hNet3 =  0.8\n",
    "hOut3 = 0.68997448112\n",
    "\n",
    "yNet1 = 1.235\n",
    "yOut1 = 0.7746924929149283\n",
    "\n",
    "(yOut1 - y1) * (yOut1( 1- yOut1))\n",
    " (0.77 - 0) * (0.77 * (1 - 0.77))\n",
    "    (0.77)* (0.1771)   = . 0.1344\n",
    "\n",
    "dE1/du1 = 0.1344 * 0.73105857863 = 0.0983\n",
    "dE1/du3 = 0.1344 * 0.78583498304 = 0.1056 \n",
    "dE1/du5 = 0.1344 * 0.68997448112 =0.0941\n"
   ]
  },
  {
   "cell_type": "raw",
   "metadata": {},
   "source": [
    "Backward Propagation - 3\n",
    "To decrease the error, we then subtract this value from the current weight \n",
    "\n",
    "\n",
    "u1 = u1 - rate * dE1/du1 \n",
    "u3 = u3 - rate * dE1/du3\n",
    "u5 = u5 - rate * dE1/du5\n",
    "u2 = u2 - rate * dE2/du2\n",
    "u4 = u4 - rate * dE2/du4\n",
    "u6 = u6 - rate * dE2/du6\n",
    "\n",
    "optionally multiplied by some learning rate, eg 0.5\n",
    "\n"
   ]
  },
  {
   "cell_type": "code",
   "execution_count": null,
   "metadata": {},
   "outputs": [],
   "source": [
    "old weights\n",
    "u1 = 0.3\n",
    "u2 = 0.5\n",
    "u3 = 0.9\n",
    "\n",
    "new u1 = 0.202\n",
    "new u2 = 0.394\n",
    "new u3 = 0.806"
   ]
  },
  {
   "cell_type": "code",
   "execution_count": null,
   "metadata": {},
   "outputs": [],
   "source": [
    "2. We want to know how much a change in w1 affects the Erro1\n",
    "------------------------------------------------------------------\n",
    "\n",
    "E1 =(y1- yOut1)^2 / 2\n",
    "Since E1 as no w1, we will have expand yOut1\n",
    "yOut1 = sig(yNet1)\n",
    "Since yOut1 as no w1, we will have expand yNet1\n",
    "yNet1 = hOut1u1 + hOut2u3 + hOut3u5 + bOut1\n",
    "Since yNet1 as no w1, we will have expand hOut1\n",
    "hOut1 = sig(hNet1) \n",
    "Since hOut1 as no w1, we will have expand hNet1\n",
    "hNet1 = x1w1 + x2w2 + bH1\n",
    "\n",
    "By Applying chain Rule,\n",
    "dE1/dw1 = dE1 / dyo1 * dyo1 / dyn1 * dyn1/dhOut1 * dhOut1/ dhNet1 * dhNet1/dw1\n"
   ]
  },
  {
   "cell_type": "raw",
   "metadata": {},
   "source": [
    "\n",
    "E1 =(y1- yOut1)^2 / 2\n",
    "derivative:\n",
    "dE1/dyOut1 = yOut1 - y1\n",
    "\n",
    "yOut1 = sig(yNet1)\n",
    "derivative:\n",
    "dyOut1/dyNet1 = yOut1( 1- yOut1)  \n",
    "\n",
    "yNet1 = hOut1u1 + hOut2u3 + hOut3u5 + bOut1\n",
    "derivative:\n",
    "dyNet1/dhOut1 = hOut1 \n",
    "\n",
    "hOut1 = sig(hNet1) \n",
    "derivative:\n",
    "dhOut1/ dhNet1 = hOut1( 1- hOut1)  \n",
    "\n",
    "hNet1 = x1w1 + x2w2 + bH1\n",
    "derivative:\n",
    "dhNet1/dw1 =  x1\n"
   ]
  },
  {
   "cell_type": "raw",
   "metadata": {},
   "source": [
    "\n",
    "dE1/dw1 = dE1 / dyo1 * dyo1 / dyn1 * dyn1/dhOut1 * dhOut1/ dhNet1 * dhNet1/dw1\n",
    "\n",
    "dE1/dw1 = (yOut1 - y1) * yOut1( 1- yOut1) * hOut1 * hOut1( 1- hOut1) * x1\n",
    "dE1/dw2 = (yOut1 - y1) * yOut1( 1- yOut1) * hOut1 * hOut1( 1- hOut1) * x2\n",
    "dE1/dw3 = (yOut1 - y1) * yOut1( 1- yOut1) * hOut2 * hOut2( 1- hOut2) * x1\n",
    "dE1/dw4 = (yOut1 - y1) * yOut1( 1- yOut1) * hOut2 * hOut2( 1- hOut2) * x2\n",
    "dE1/dw5 = (yOut1 - y1) * yOut1( 1- yOut1) * hOut1 * hOut3( 1- hOut3) * x1\n",
    "dE1/dw6 = (yOut1 - y1) * yOut1( 1- yOut1) * hOut1 * hOut3( 1- hOut3) * x2\n"
   ]
  },
  {
   "cell_type": "code",
   "execution_count": null,
   "metadata": {},
   "outputs": [],
   "source": [
    "dE2/dw1 = (yOut2 - y2) * yOut2( 1- yOut2) * hOut1 * hOut1( 1- hOut1) * x1\n",
    "dE2/dw2 = (yOut2 - y2) * yOut2( 1- yOut2) * hOut1 * hOut1( 1- hOut1) * x2\n",
    "dE2/dw3 = (yOut2 - y2) * yOut2( 1- yOut2) * hOut2 * hOut2( 1- hOut2) * x1\n",
    "dE2/dw4 = (yOut2 - y2) * yOut2( 1- yOut2) * hOut2 * hOut2( 1- hOut2) * x2\n",
    "dE2/dw5 = (yOut2 - y2) * yOut2( 1- yOut2) * hOut1 * hOut3( 1- hOut3) * x1\n",
    "dE2/dw6 = (yOut2 - y2) * yOut2( 1- yOut2) * hOut1 * hOut3( 1- hOut3) * x2\n"
   ]
  },
  {
   "cell_type": "raw",
   "metadata": {},
   "source": [
    "x1 = 1\n",
    "x2 = 1\n",
    "y1 = 0\n",
    "\n",
    "hNet1 = 1\n",
    "hOut1 = 0.73105857863\n",
    "\n",
    "hNet2 = 1.3\n",
    "hOut2 =  0.78583498304\n",
    "\n",
    "hNet3 =  0.8\n",
    "hOut3 = 0.68997448112\n",
    "\n",
    "yNet1 = 1.235\n",
    "yOut1 = 0.7746924929149283\n",
    "\n",
    "(yOut1 - y1) * (yOut1( 1- yOut1))\n",
    " (0.77 - 0) * (0.77 * (1 - 0.77))\n",
    "    (0.77)* (0.1771)   =  0.1344\n",
    "    \n",
    "dE1/dw1 = 0.1344 * 0.73105857863 * 0.73105857863 ( 1 - 0.73105857863) * 1\n",
    "dE1/dw1 = 0.01931796255\n",
    "\n",
    "dE1/dw2 = 0.1344 * 0.73105857863 * 0.73105857863 ( 1 - 0.73105857863) * 1\n",
    "dE1/dw2 = 0.01931796255\n",
    "\n"
   ]
  },
  {
   "cell_type": "raw",
   "metadata": {},
   "source": [
    "\n",
    "w1 = x1->h1 = 0.8\n",
    "w1 = 0.8 - 0.01931796255 = 0.78068203745\n",
    "\n",
    "\n",
    "w2 = x2->h1 = 0.2\n",
    "w2 = 0.2 - 0.01931796255 = 0.18068203745\n",
    "\n",
    "w3 = x1->h2 = 0.4\n",
    "\n",
    "w4 = x2->h2 = 0.9\n",
    "\n",
    "w5= x2->h3 = 0.5\n",
    "w6= x1->h3 = 0.3\n"
   ]
  },
  {
   "cell_type": "code",
   "execution_count": null,
   "metadata": {},
   "outputs": [],
   "source": [
    " We want to know how much a change in w1 affects the total Erro, Incase you have multiple outputs\n",
    "--------------------------------------------------------------------------------------------------\n",
    "w1 affects both E1 and E2\n",
    "w1 affects only hout1 not hout2 and hout3\n",
    "w1 affects only dhout1\n",
    "\n",
    "dEtotal/dw1 = dEtotal / dhOut1 * dhOut1/ dhNet1 * dhNet1/dw1\n",
    "\n",
    "dEtotal / dhOut1 = dE1/ dhOut1 + dE2 / dhOut1\n",
    "\n"
   ]
  }
 ],
 "metadata": {
  "kernelspec": {
   "display_name": "Python 3",
   "language": "python",
   "name": "python3"
  },
  "language_info": {
   "codemirror_mode": {
    "name": "ipython",
    "version": 3
   },
   "file_extension": ".py",
   "mimetype": "text/x-python",
   "name": "python",
   "nbconvert_exporter": "python",
   "pygments_lexer": "ipython3",
   "version": "3.5.2"
  }
 },
 "nbformat": 4,
 "nbformat_minor": 2
}
