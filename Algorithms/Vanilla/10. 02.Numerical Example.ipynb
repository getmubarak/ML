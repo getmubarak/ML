{
 "cells": [
  {
   "cell_type": "raw",
   "metadata": {},
   "source": [
    "mean(x) = sum(x)/n\n",
    "varaince= sum((x-mean)^2) / n - 1\n",
    "standard deviation(x) = sqrt(variance)\n",
    "\n",
    "note: \n",
    "     (standard deviation)^2 = variance\n",
    "\n",
    "pdf(x, mean, sd) = (1 / (sqrt(2 * PI) * sd)) * exp(-((x-mean)^2)/(2*sd^2)))\n",
    "pdf(x, mean, sd) = (1 / (sqrt(2 * PI * varaince)) * exp(-((x-mean)^2)/(2*varaince)))\n"
   ]
  },
  {
   "cell_type": "code",
   "execution_count": null,
   "metadata": {},
   "outputs": [],
   "source": [
    "\n",
    "Sex (class)  Height (feet)    Weight (lbs)   Foot size (inches)    \n",
    "Male            6            180               12          \n",
    "Male          5.92           190               11\n",
    "Male          5.58           170               12\n",
    "Male          5.92           165               10\n",
    "Female        5              100                6\n",
    "Female        5.5            150                8\n",
    "Female        5.42           130                7\n",
    "Female        5.75           150                9\n"
   ]
  },
  {
   "cell_type": "code",
   "execution_count": null,
   "metadata": {},
   "outputs": [],
   "source": [
    "mean_male_height = 1/4(6 + 5.92 +5.58 + 5.92) = 5.855\n",
    "variance_male_height = 1/3((6-5.855)^2 + (5.92 - 5.855)^2 + (5.58-5.855)^2 + (5.92-5.855)^2)  \n",
    "                     = 0.035033\n",
    "                     \n",
    "mean_female_height = 1/4(5+5.5+5.42+5.75) = 5.4175\n",
    "variance_feamle_height = 1/3((5-5.4175)^2+(5.5-5.4175)^2+(5.42-5.4175)^2 + (5.75-5.4175)^2)  \n",
    "                     = 0.097225\n",
    "\n",
    "---------------------------------------------------------------------------------------------                     \n",
    "mean_male_weight = 1/4(180+190+170+165) = 176.25\n",
    "variance_male_weight = 1/3((180-176.25)^2+(190-176.25)^2+(170-176.25)^2+(165-176.25)^2)  \n",
    "                     = 122.92\n",
    "\n",
    "mean_female_weight = 1/4(100+150+130+150) = 132.5\n",
    "variance_female_weight = 1/3((100-132.5)^2+(150-132.5)^2+(130-132.5)^2+(150-132.5)^2)  \n",
    "                     = 558.33"
   ]
  },
  {
   "cell_type": "code",
   "execution_count": null,
   "metadata": {},
   "outputs": [],
   "source": [
    "\n",
    "Sex (class) Mean (Height)  Variance (Height) Mean (Weight) Variance (Weight) Mean (Foot size) Variance (Foot size)\n",
    "Male        5.855           0.035033         176.25         122.92            11.25           0.9167\n",
    "Female      5.4175          0.097225         132.5          558.33             7.5            1.6667\n",
    "---------------------------------------------------------------------------------------------\n",
    "\n"
   ]
  },
  {
   "cell_type": "code",
   "execution_count": null,
   "metadata": {},
   "outputs": [],
   "source": [
    "Testing Sample\n",
    "Sex (class)  Height (feet)  Weight (lbs)  Foot size (inches)\n",
    "?            6              130             8\n"
   ]
  },
  {
   "cell_type": "code",
   "execution_count": null,
   "metadata": {},
   "outputs": [],
   "source": [
    "probability density(x)=(1/sqrt(2*pi*x_varaince)) *e-((8-x_mean)^2/2*x_variance) \n",
    "\n",
    "\n",
    "p(height|male)= (1/sqrt(2*pi*0.035033)) *e-((6-5.855)^2/2*0.035033) = 1.5788\n",
    "p(weight|male)= (1/sqrt(2*pi*122.92)) *e-((130-176.25)^2/2*122.92) = 0.0000059881\n",
    "p(footsize|male)=(1/sqrt(2*pi*0.9167)) *e-((8-11.25)^2/2*0.9167) = 0.0013115\n",
    "---------------------------------------------------------------------------------------------\n",
    "\n",
    "p(height|female)=(1/sqrt(2*pi*0.9167)) *e-((8-11.25)^2/2*0.9167) = 0.22346\n",
    "p(weight|female)=(1/sqrt(2*pi*0.9167)) *e-((8-11.25)^2/2*0.9167) =0.016789\n",
    "p(footsize|female)=(1/sqrt(2*pi*0.9167)) *e-((8-11.25)^2/2*0.9167) = 0.28669 \n",
    "---------------------------------------------------------------------------------------------"
   ]
  },
  {
   "cell_type": "code",
   "execution_count": null,
   "metadata": {},
   "outputs": [],
   "source": [
    "\n",
    "p(male)*p(height|male) * p(weight|male) * p(footsize|male)\n",
    "0.5 * 1.5788 * 0.0000059881 * 0.0013115 = 6.19947 * 10^-9 \n",
    "\n",
    "p(female)*p(height|female)*p(weight|female)*p(footsize|female)\n",
    "0.5 * 0.22346 * 0.016789 * 0.28669  = 5.37783 * 10^-4 \n"
   ]
  },
  {
   "cell_type": "code",
   "execution_count": null,
   "metadata": {},
   "outputs": [],
   "source": [
    "Since 5.37783 * 10^-4 >  6.19947 * 10^-9  , we predict the sample is female.\n",
    "\n"
   ]
  }
 ],
 "metadata": {
  "kernelspec": {
   "display_name": "Python 3",
   "language": "python",
   "name": "python3"
  },
  "language_info": {
   "codemirror_mode": {
    "name": "ipython",
    "version": 3
   },
   "file_extension": ".py",
   "mimetype": "text/x-python",
   "name": "python",
   "nbconvert_exporter": "python",
   "pygments_lexer": "ipython3",
   "version": "3.5.2"
  }
 },
 "nbformat": 4,
 "nbformat_minor": 1
}
